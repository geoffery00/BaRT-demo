{
 "cells": [
  {
   "cell_type": "code",
   "execution_count": 22,
   "metadata": {
    "scrolled": true
   },
   "outputs": [],
   "source": [
    "import os\n",
    "os.environ['TF_CPP_MIN_LOG_LEVEL'] = '2' \n",
    "import tensorflow as tf\n",
    "import numpy as np\n",
    "import os\n",
    "import sys\n",
    "from scipy.misc import imread\n",
    "from scipy.misc import imsave\n",
    "from scipy.misc import imresize\n",
    "from PIL import Image\n",
    "slim = tf.contrib.slim\n",
    "from nets import resnet_v2\n",
    "from nets import vgg\n",
    "from matplotlib import pyplot as plt\n",
    "from preprocessing import vgg_preprocessing\n",
    "from preprocessing import inception_preprocessing\n",
    "\n",
    "#Tensorflow 1.14.0\n",
    "#scipy 1.1.0\n",
    "#scikit-image 0.16.2\n",
    "#Pillow 6.0.0\n",
    "#python=2.7"
   ]
  },
  {
   "cell_type": "code",
   "execution_count": 25,
   "metadata": {
    "scrolled": true
   },
   "outputs": [
    {
     "name": "stdout",
     "output_type": "stream",
     "text": [
      "INFO:tensorflow:Restoring parameters from ./resnet_enhaced_checkpoint/resnet_enhanced.ckpt\n",
      "predicted output: \n",
      "\n",
      "944\n"
     ]
    }
   ],
   "source": [
    "#set image_dir\n",
    "test_image = \"./images/koala.jpg\"\n",
    "checkpoint_path = \"./resnet_enhaced_checkpoint/\"\n",
    "image_size = resnet_v2.resnet_v2_50.default_image_size\n",
    "\n",
    "with tf.Graph().as_default():\n",
    "    \n",
    "    image_contents = tf.read_file(test_image)\n",
    "    image = tf.image.decode_jpeg(image_contents, channels=3)\n",
    "    \n",
    "    #resnet_v2_50 uses same preprocessing as vgg\n",
    "    processed_image = vgg_preprocessing.preprocess_image(image, image_size, image_size, is_training=False)\n",
    "    processed_images = tf.expand_dims(processed_image, 0)\n",
    "    \n",
    "    with slim.arg_scope(resnet_v2.resnet_arg_scope()):\n",
    "        logits, _ = resnet_v2.resnet_v2_50(inputs = processed_images, \n",
    "                                           is_training=False, \n",
    "                                           num_classes=1001, \n",
    "                                           scope='resnet_v2_50', \n",
    "                                           reuse=tf.AUTO_REUSE)\n",
    "    probabilities = tf.nn.softmax(logits)\n",
    "    init = tf.global_variables_initializer()\n",
    "    \n",
    "    with tf.Session() as sess:\n",
    "                \n",
    "        sess.run(init)\n",
    "        \n",
    "        saver = tf.train.import_meta_graph(checkpoint_path + 'resnet_enhanced.ckpt.meta')\n",
    "        saver.restore(sess,tf.train.latest_checkpoint(checkpoint_path))\n",
    "        \n",
    "        np_image, probabilities = sess.run([image, probabilities])\n",
    "        \n",
    "        probabilities = probabilities[0, 0:]\n",
    "        \n",
    "        print(\"predicted output: \\n\")\n",
    "        print(np.argmax(probabilities))"
   ]
  },
  {
   "cell_type": "code",
   "execution_count": null,
   "metadata": {},
   "outputs": [],
   "source": []
  },
  {
   "cell_type": "code",
   "execution_count": null,
   "metadata": {},
   "outputs": [],
   "source": []
  }
 ],
 "metadata": {
  "kernelspec": {
   "display_name": "Python 3",
   "language": "python",
   "name": "python3"
  },
  "language_info": {
   "codemirror_mode": {
    "name": "ipython",
    "version": 3
   },
   "file_extension": ".py",
   "mimetype": "text/x-python",
   "name": "python",
   "nbconvert_exporter": "python",
   "pygments_lexer": "ipython3",
   "version": "3.7.9"
  }
 },
 "nbformat": 4,
 "nbformat_minor": 4
}
